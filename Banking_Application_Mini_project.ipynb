{
 "cells": [
  {
   "cell_type": "code",
   "execution_count": 3,
   "metadata": {},
   "outputs": [
    {
     "name": "stdout",
     "output_type": "stream",
     "text": [
      "Satya's Savings Account with Balance:100000\n",
      "Acount balance: 105000\n",
      "Sorry!!! Insufficient Funds...\n",
      "Satya's Savings Account with Balance:75000\n",
      "SS's Current Account with Balance:36000\n",
      "SS's Current Account with Balance:8000\n"
     ]
    }
   ],
   "source": [
    "class Account:\n",
    "    def __init__(self,name,balance,min_balance):\n",
    "        self.name=name\n",
    "        self.balance=balance\n",
    "        self.min_balance=min_balance\n",
    "        \n",
    "    def deposit(self,amount):\n",
    "        self.balance+=amount\n",
    "        \n",
    "    def withdraw(self,amount):\n",
    "        if(self.balance-amount>=self.min_balance):\n",
    "            self.balance-=amount\n",
    "        else:\n",
    "            print(\"Sorry!!! Insufficient Funds...\")\n",
    "            \n",
    "    def printStatement(self):\n",
    "        print(\"Acount balance:\",self.balance)\n",
    "        \n",
    "class Current(Account):\n",
    "    def __init__(self,name,balance):\n",
    "        super().__init__(name,balance,min_balance=-1000)\n",
    "        \n",
    "    def __str__(self):\n",
    "        return \"{}'s Current Account with Balance:{}\".format(self.name,self.balance)\n",
    "    \n",
    "class Savings(Account):\n",
    "    def __init__(self,name,balance):\n",
    "        super().__init__(name,balance,min_balance=0)\n",
    "        \n",
    "    def __str__(self):\n",
    "        return \"{}'s Savings Account with Balance:{}\".format(self.name,self.balance)\n",
    "    \n",
    "c=Savings(\"Satya\",100000)\n",
    "print(c)\n",
    "c.deposit(5000)\n",
    "c.printStatement()\n",
    "c.withdraw(10000)\n",
    "c.withdraw(20000)\n",
    "c.withdraw(80000)\n",
    "print(c)\n",
    "\n",
    "c2=Current(\"SS\",30000)\n",
    "c2.deposit(6000)\n",
    "print(c2)\n",
    "c2.withdraw(28000)\n",
    "print(c2)"
   ]
  },
  {
   "cell_type": "code",
   "execution_count": null,
   "metadata": {},
   "outputs": [],
   "source": []
  }
 ],
 "metadata": {
  "kernelspec": {
   "display_name": "Python 3",
   "language": "python",
   "name": "python3"
  },
  "language_info": {
   "codemirror_mode": {
    "name": "ipython",
    "version": 3
   },
   "file_extension": ".py",
   "mimetype": "text/x-python",
   "name": "python",
   "nbconvert_exporter": "python",
   "pygments_lexer": "ipython3",
   "version": "3.8.3"
  }
 },
 "nbformat": 4,
 "nbformat_minor": 4
}
